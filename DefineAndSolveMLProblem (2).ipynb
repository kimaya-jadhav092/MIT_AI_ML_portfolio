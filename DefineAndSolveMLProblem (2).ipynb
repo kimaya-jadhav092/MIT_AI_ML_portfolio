{
 "cells": [
  {
   "cell_type": "markdown",
   "metadata": {},
   "source": [
    "# Lab 8: Define and Solve an ML Problem of Your Choosing"
   ]
  },
  {
   "cell_type": "code",
   "execution_count": 144,
   "metadata": {},
   "outputs": [],
   "source": [
    "import pandas as pd\n",
    "import numpy as np\n",
    "import os \n",
    "import matplotlib.pyplot as plt\n",
    "import seaborn as sns"
   ]
  },
  {
   "cell_type": "markdown",
   "metadata": {},
   "source": [
    "In this lab assignment, you will follow the machine learning life cycle and implement a model to solve a machine learning problem of your choosing. You will select a data set and choose a predictive problem that the data set supports.  You will then inspect the data with your problem in mind and begin to formulate a  project plan. You will then implement the machine learning project plan. \n",
    "\n",
    "You will complete the following tasks:\n",
    "\n",
    "1. Build Your DataFrame\n",
    "2. Define Your ML Problem\n",
    "3. Perform exploratory data analysis to understand your data.\n",
    "4. Define Your Project Plan\n",
    "5. Implement Your Project Plan:\n",
    "    * Prepare your data for your model.\n",
    "    * Fit your model to the training data and evaluate your model.\n",
    "    * Improve your model's performance."
   ]
  },
  {
   "cell_type": "markdown",
   "metadata": {},
   "source": [
    "## Part 1: Build Your DataFrame\n",
    "\n",
    "You will have the option to choose one of four data sets that you have worked with in this program:\n",
    "\n",
    "* The \"census\" data set that contains Census information from 1994: `censusData.csv`\n",
    "* Airbnb NYC \"listings\" data set: `airbnbListingsData.csv`\n",
    "* World Happiness Report (WHR) data set: `WHR2018Chapter2OnlineData.csv`\n",
    "* Book Review data set: `bookReviewsData.csv`\n",
    "\n",
    "Note that these are variations of the data sets that you have worked with in this program. For example, some do not include some of the preprocessing necessary for specific models. \n",
    "\n",
    "#### Load a Data Set and Save it as a Pandas DataFrame\n",
    "\n",
    "The code cell below contains filenames (path + filename) for each of the four data sets available to you.\n",
    "\n",
    "<b>Task:</b> In the code cell below, use the same method you have been using to load the data using `pd.read_csv()` and save it to DataFrame `df`. \n",
    "\n",
    "You can load each file as a new DataFrame to inspect the data before choosing your data set."
   ]
  },
  {
   "cell_type": "code",
   "execution_count": 145,
   "metadata": {},
   "outputs": [
    {
     "data": {
      "text/html": [
       "<div>\n",
       "<style scoped>\n",
       "    .dataframe tbody tr th:only-of-type {\n",
       "        vertical-align: middle;\n",
       "    }\n",
       "\n",
       "    .dataframe tbody tr th {\n",
       "        vertical-align: top;\n",
       "    }\n",
       "\n",
       "    .dataframe thead th {\n",
       "        text-align: right;\n",
       "    }\n",
       "</style>\n",
       "<table border=\"1\" class=\"dataframe\">\n",
       "  <thead>\n",
       "    <tr style=\"text-align: right;\">\n",
       "      <th></th>\n",
       "      <th>country</th>\n",
       "      <th>year</th>\n",
       "      <th>Life Ladder</th>\n",
       "      <th>Log GDP per capita</th>\n",
       "      <th>Social support</th>\n",
       "      <th>Healthy life expectancy at birth</th>\n",
       "      <th>Freedom to make life choices</th>\n",
       "      <th>Generosity</th>\n",
       "      <th>Perceptions of corruption</th>\n",
       "      <th>Positive affect</th>\n",
       "      <th>Negative affect</th>\n",
       "      <th>Confidence in national government</th>\n",
       "      <th>Democratic Quality</th>\n",
       "      <th>Delivery Quality</th>\n",
       "      <th>Standard deviation of ladder by country-year</th>\n",
       "      <th>Standard deviation/Mean of ladder by country-year</th>\n",
       "      <th>GINI index (World Bank estimate)</th>\n",
       "      <th>GINI index (World Bank estimate), average 2000-15</th>\n",
       "      <th>gini of household income reported in Gallup, by wp5-year</th>\n",
       "    </tr>\n",
       "  </thead>\n",
       "  <tbody>\n",
       "    <tr>\n",
       "      <th>0</th>\n",
       "      <td>Afghanistan</td>\n",
       "      <td>2008</td>\n",
       "      <td>3.723590</td>\n",
       "      <td>7.168690</td>\n",
       "      <td>0.450662</td>\n",
       "      <td>49.209663</td>\n",
       "      <td>0.718114</td>\n",
       "      <td>0.181819</td>\n",
       "      <td>0.881686</td>\n",
       "      <td>0.517637</td>\n",
       "      <td>0.258195</td>\n",
       "      <td>0.612072</td>\n",
       "      <td>-1.929690</td>\n",
       "      <td>-1.655084</td>\n",
       "      <td>1.774662</td>\n",
       "      <td>0.476600</td>\n",
       "      <td>NaN</td>\n",
       "      <td>NaN</td>\n",
       "      <td>NaN</td>\n",
       "    </tr>\n",
       "    <tr>\n",
       "      <th>1</th>\n",
       "      <td>Afghanistan</td>\n",
       "      <td>2009</td>\n",
       "      <td>4.401778</td>\n",
       "      <td>7.333790</td>\n",
       "      <td>0.552308</td>\n",
       "      <td>49.624432</td>\n",
       "      <td>0.678896</td>\n",
       "      <td>0.203614</td>\n",
       "      <td>0.850035</td>\n",
       "      <td>0.583926</td>\n",
       "      <td>0.237092</td>\n",
       "      <td>0.611545</td>\n",
       "      <td>-2.044093</td>\n",
       "      <td>-1.635025</td>\n",
       "      <td>1.722688</td>\n",
       "      <td>0.391362</td>\n",
       "      <td>NaN</td>\n",
       "      <td>NaN</td>\n",
       "      <td>0.441906</td>\n",
       "    </tr>\n",
       "    <tr>\n",
       "      <th>2</th>\n",
       "      <td>Afghanistan</td>\n",
       "      <td>2010</td>\n",
       "      <td>4.758381</td>\n",
       "      <td>7.386629</td>\n",
       "      <td>0.539075</td>\n",
       "      <td>50.008961</td>\n",
       "      <td>0.600127</td>\n",
       "      <td>0.137630</td>\n",
       "      <td>0.706766</td>\n",
       "      <td>0.618265</td>\n",
       "      <td>0.275324</td>\n",
       "      <td>0.299357</td>\n",
       "      <td>-1.991810</td>\n",
       "      <td>-1.617176</td>\n",
       "      <td>1.878622</td>\n",
       "      <td>0.394803</td>\n",
       "      <td>NaN</td>\n",
       "      <td>NaN</td>\n",
       "      <td>0.327318</td>\n",
       "    </tr>\n",
       "    <tr>\n",
       "      <th>3</th>\n",
       "      <td>Afghanistan</td>\n",
       "      <td>2011</td>\n",
       "      <td>3.831719</td>\n",
       "      <td>7.415019</td>\n",
       "      <td>0.521104</td>\n",
       "      <td>50.367298</td>\n",
       "      <td>0.495901</td>\n",
       "      <td>0.175329</td>\n",
       "      <td>0.731109</td>\n",
       "      <td>0.611387</td>\n",
       "      <td>0.267175</td>\n",
       "      <td>0.307386</td>\n",
       "      <td>-1.919018</td>\n",
       "      <td>-1.616221</td>\n",
       "      <td>1.785360</td>\n",
       "      <td>0.465942</td>\n",
       "      <td>NaN</td>\n",
       "      <td>NaN</td>\n",
       "      <td>0.336764</td>\n",
       "    </tr>\n",
       "    <tr>\n",
       "      <th>4</th>\n",
       "      <td>Afghanistan</td>\n",
       "      <td>2012</td>\n",
       "      <td>3.782938</td>\n",
       "      <td>7.517126</td>\n",
       "      <td>0.520637</td>\n",
       "      <td>50.709263</td>\n",
       "      <td>0.530935</td>\n",
       "      <td>0.247159</td>\n",
       "      <td>0.775620</td>\n",
       "      <td>0.710385</td>\n",
       "      <td>0.267919</td>\n",
       "      <td>0.435440</td>\n",
       "      <td>-1.842996</td>\n",
       "      <td>-1.404078</td>\n",
       "      <td>1.798283</td>\n",
       "      <td>0.475367</td>\n",
       "      <td>NaN</td>\n",
       "      <td>NaN</td>\n",
       "      <td>0.344540</td>\n",
       "    </tr>\n",
       "  </tbody>\n",
       "</table>\n",
       "</div>"
      ],
      "text/plain": [
       "       country  year  Life Ladder  Log GDP per capita  Social support  \\\n",
       "0  Afghanistan  2008     3.723590            7.168690        0.450662   \n",
       "1  Afghanistan  2009     4.401778            7.333790        0.552308   \n",
       "2  Afghanistan  2010     4.758381            7.386629        0.539075   \n",
       "3  Afghanistan  2011     3.831719            7.415019        0.521104   \n",
       "4  Afghanistan  2012     3.782938            7.517126        0.520637   \n",
       "\n",
       "   Healthy life expectancy at birth  Freedom to make life choices  Generosity  \\\n",
       "0                         49.209663                      0.718114    0.181819   \n",
       "1                         49.624432                      0.678896    0.203614   \n",
       "2                         50.008961                      0.600127    0.137630   \n",
       "3                         50.367298                      0.495901    0.175329   \n",
       "4                         50.709263                      0.530935    0.247159   \n",
       "\n",
       "   Perceptions of corruption  Positive affect  Negative affect  \\\n",
       "0                   0.881686         0.517637         0.258195   \n",
       "1                   0.850035         0.583926         0.237092   \n",
       "2                   0.706766         0.618265         0.275324   \n",
       "3                   0.731109         0.611387         0.267175   \n",
       "4                   0.775620         0.710385         0.267919   \n",
       "\n",
       "   Confidence in national government  Democratic Quality  Delivery Quality  \\\n",
       "0                           0.612072           -1.929690         -1.655084   \n",
       "1                           0.611545           -2.044093         -1.635025   \n",
       "2                           0.299357           -1.991810         -1.617176   \n",
       "3                           0.307386           -1.919018         -1.616221   \n",
       "4                           0.435440           -1.842996         -1.404078   \n",
       "\n",
       "   Standard deviation of ladder by country-year  \\\n",
       "0                                      1.774662   \n",
       "1                                      1.722688   \n",
       "2                                      1.878622   \n",
       "3                                      1.785360   \n",
       "4                                      1.798283   \n",
       "\n",
       "   Standard deviation/Mean of ladder by country-year  \\\n",
       "0                                           0.476600   \n",
       "1                                           0.391362   \n",
       "2                                           0.394803   \n",
       "3                                           0.465942   \n",
       "4                                           0.475367   \n",
       "\n",
       "   GINI index (World Bank estimate)  \\\n",
       "0                               NaN   \n",
       "1                               NaN   \n",
       "2                               NaN   \n",
       "3                               NaN   \n",
       "4                               NaN   \n",
       "\n",
       "   GINI index (World Bank estimate), average 2000-15  \\\n",
       "0                                                NaN   \n",
       "1                                                NaN   \n",
       "2                                                NaN   \n",
       "3                                                NaN   \n",
       "4                                                NaN   \n",
       "\n",
       "   gini of household income reported in Gallup, by wp5-year  \n",
       "0                                                NaN         \n",
       "1                                           0.441906         \n",
       "2                                           0.327318         \n",
       "3                                           0.336764         \n",
       "4                                           0.344540         "
      ]
     },
     "execution_count": 145,
     "metadata": {},
     "output_type": "execute_result"
    }
   ],
   "source": [
    "# File names of the four data sets\n",
    "adultDataSet_filename = os.path.join(os.getcwd(), \"data\", \"censusData.csv\")\n",
    "airbnbDataSet_filename = os.path.join(os.getcwd(), \"data\", \"airbnbListingsData.csv\")\n",
    "WHRDataSet_filename = os.path.join(os.getcwd(), \"data\", \"WHR2018Chapter2OnlineData.csv\")\n",
    "bookReviewDataSet_filename = os.path.join(os.getcwd(), \"data\", \"bookReviewsData.csv\")\n",
    "\n",
    "\n",
    "whr_df = pd.read_csv(WHRDataSet_filename)# YOUR CODE HERE\n",
    "\n",
    "whr_df.head()"
   ]
  },
  {
   "cell_type": "code",
   "execution_count": 146,
   "metadata": {},
   "outputs": [
    {
     "data": {
      "text/plain": [
       "(1562, 19)"
      ]
     },
     "execution_count": 146,
     "metadata": {},
     "output_type": "execute_result"
    }
   ],
   "source": [
    "whr_df.shape"
   ]
  },
  {
   "cell_type": "code",
   "execution_count": 147,
   "metadata": {},
   "outputs": [
    {
     "data": {
      "text/plain": [
       "Index(['country', 'year', 'Life Ladder', 'Log GDP per capita',\n",
       "       'Social support', 'Healthy life expectancy at birth',\n",
       "       'Freedom to make life choices', 'Generosity',\n",
       "       'Perceptions of corruption', 'Positive affect', 'Negative affect',\n",
       "       'Confidence in national government', 'Democratic Quality',\n",
       "       'Delivery Quality', 'Standard deviation of ladder by country-year',\n",
       "       'Standard deviation/Mean of ladder by country-year',\n",
       "       'GINI index (World Bank estimate)',\n",
       "       'GINI index (World Bank estimate), average 2000-15',\n",
       "       'gini of household income reported in Gallup, by wp5-year'],\n",
       "      dtype='object')"
      ]
     },
     "execution_count": 147,
     "metadata": {},
     "output_type": "execute_result"
    }
   ],
   "source": [
    "whr_df.columns"
   ]
  },
  {
   "cell_type": "markdown",
   "metadata": {},
   "source": [
    "## Part 2: Define Your ML Problem\n",
    "\n",
    "Next you will formulate your ML Problem. In the markdown cell below, answer the following questions:\n",
    "\n",
    "1. List the data set you have chosen.\n",
    "2. What will you be predicting? What is the label?\n",
    "3. Is this a supervised or unsupervised learning problem? Is this a clustering, classification or regression problem? Is it a binary classificaiton or multi-class classifiction problem?\n",
    "4. What are your features? (note: this list may change after your explore your data)\n",
    "5. Explain why this is an important problem. In other words, how would a company create value with a model that predicts this label?"
   ]
  },
  {
   "cell_type": "markdown",
   "metadata": {},
   "source": [
    "1. I've chosen the World Happiness Report (WHR) dataset.\n",
    "2. I'll be predicting 'Life Ladder', which is the label in the dataset. Life ladder is total measure of happiness, quantified by a number on a scale of 0 to 10.\n",
    "3. This is an example of supervised learning, as we have the label that the model will try to predict based on a set of features and their relationship to the label. This is a regression problem, since 'Life Ladder' contains continuous numbers that can increase/decrease with changes in the feature values.\n",
    "4. The current features include country, year, Log GDP per capital, social support, Healthy life expectancy at birth, Freedom to make life choices, Generosity, Perceptions of corruption, Positive affect, Negative affect, Confidence in national government, Democratic Quality, Delivery Quality, Standard deviation of ladder by country-year, Standard deviation/Mean of ladder by country-year, GINI index, GINI index average 2000-15', and gini of household income. However, a few of these columns like GINI index have many undefined values and may be removed from the feature set.\n",
    "5. This machine learning problem aims to estimate a happiness level, 'Life Ladder', based on different economic and social indicators. This can be helpful for companies to assess conditions of certain geographic areas. For example, if a company is advertising a leisure product or service, it may do better in areas that have higher happiness indicators. Additionally other companies like non-profits may target certain areas with lower happiness indices, if they are offering a relevant service like mental health support. Comapnies can use 'Life ladder' as a benchmark for the quality of life, and center their investment or design decisions around a particular areas predicted 'Life Ladder'. "
   ]
  },
  {
   "cell_type": "markdown",
   "metadata": {},
   "source": [
    "## Part 3: Understand Your Data\n",
    "\n",
    "The next step is to perform exploratory data analysis. Inspect and analyze your data set with your machine learning problem in mind. Consider the following as you inspect your data:\n",
    "\n",
    "1. What data preparation techniques would you like to use? These data preparation techniques may include:\n",
    "\n",
    "    * addressing missingness, such as replacing missing values with means\n",
    "    * finding and replacing outliers\n",
    "    * renaming features and labels\n",
    "    * finding and replacing outliers\n",
    "    * performing feature engineering techniques such as one-hot encoding on categorical features\n",
    "    * selecting appropriate features and removing irrelevant features\n",
    "    * performing specific data cleaning and preprocessing techniques for an NLP problem\n",
    "    * addressing class imbalance in your data sample to promote fair AI\n",
    "    \n",
    "\n",
    "2. What machine learning model (or models) you would like to use that is suitable for your predictive problem and data?\n",
    "    * Are there other data preparation techniques that you will need to apply to build a balanced modeling data set for your problem and model? For example, will you need to scale your data?\n",
    " \n",
    " \n",
    "3. How will you evaluate and improve the model's performance?\n",
    "    * Are there specific evaluation metrics and methods that are appropriate for your model?\n",
    "    \n",
    "\n",
    "Think of the different techniques you have used to inspect and analyze your data in this course. These include using Pandas to apply data filters, using the Pandas `describe()` method to get insight into key statistics for each column, using the Pandas `dtypes` property to inspect the data type of each column, and using Matplotlib and Seaborn to detect outliers and visualize relationships between features and labels. If you are working on a classification problem, use techniques you have learned to determine if there is class imbalance.\n",
    "\n",
    "<b>Task</b>: Use the techniques you have learned in this course to inspect and analyze your data. You can import additional packages that you have used in this course that you will need to perform this task.\n",
    "\n",
    "<b>Note</b>: You can add code cells if needed by going to the <b>Insert</b> menu and clicking on <b>Insert Cell Below</b> in the drop-drown menu."
   ]
  },
  {
   "cell_type": "code",
   "execution_count": 148,
   "metadata": {},
   "outputs": [],
   "source": [
    "# YOUR CODE HERE\n",
    "# Renaming columns and creating a new df to manipulate \n",
    "\n",
    "new_names = {'Life Ladder': 'Happiness',\n",
    "            'Log GDP per capita': 'LogGDP',\n",
    "            'Social support': 'Support',\n",
    "            'Healthy life expectancy at birth': 'Life_Expectancy',\n",
    "            'Freedom to make life choices': 'Freedom',\n",
    "            'Perceptions of corruption': 'Corruption',\n",
    "            'Positive affect': 'Positive',\n",
    "            'Negative affect': 'Negative',\n",
    "            'Confidence in national government': 'Govmt_Confidence',\n",
    "            'Standard deviation of ladder by country-year': 'Ladder_Std',\n",
    "            'Standard deviation/Mean of ladder by country-year': 'Ladder_Std_GINI',\n",
    "            'GINI index (World Bank estimate)': 'GINI',\n",
    "            'GINI index (World Bank estimate), average 2000-15': 'GINI_avg',\n",
    "            'gini of household income reported in Gallup, by wp5-year': 'GINI_gallup',\n",
    "            'Democratic Quality': 'Democratic',\n",
    "            'Delivery Quality': 'Delivery'\n",
    "    \n",
    "}\n",
    "\n",
    "df = whr_df.rename(new_names, axis = 1)"
   ]
  },
  {
   "cell_type": "code",
   "execution_count": 149,
   "metadata": {},
   "outputs": [
    {
     "data": {
      "text/plain": [
       "2005     27\n",
       "2006     89\n",
       "2007    102\n",
       "2008    110\n",
       "2009    114\n",
       "2010    124\n",
       "2011    146\n",
       "2012    142\n",
       "2013    137\n",
       "2014    145\n",
       "2015    143\n",
       "2016    142\n",
       "2017    141\n",
       "Name: year, dtype: int64"
      ]
     },
     "execution_count": 149,
     "metadata": {},
     "output_type": "execute_result"
    }
   ],
   "source": [
    "df['year'].value_counts().sort_index()"
   ]
  },
  {
   "cell_type": "code",
   "execution_count": 150,
   "metadata": {},
   "outputs": [
    {
     "data": {
      "text/plain": [
       "(426, 19)"
      ]
     },
     "execution_count": 150,
     "metadata": {},
     "output_type": "execute_result"
    }
   ],
   "source": [
    "# Selecting a subset of years to avoid influence of economic conditions, and have the most relevant/full data\n",
    "df1517 = df[df.year.isin(range(2015,2018))]\n",
    "df1517.shape"
   ]
  },
  {
   "cell_type": "code",
   "execution_count": 151,
   "metadata": {},
   "outputs": [
    {
     "data": {
      "text/html": [
       "<div>\n",
       "<style scoped>\n",
       "    .dataframe tbody tr th:only-of-type {\n",
       "        vertical-align: middle;\n",
       "    }\n",
       "\n",
       "    .dataframe tbody tr th {\n",
       "        vertical-align: top;\n",
       "    }\n",
       "\n",
       "    .dataframe thead th {\n",
       "        text-align: right;\n",
       "    }\n",
       "</style>\n",
       "<table border=\"1\" class=\"dataframe\">\n",
       "  <thead>\n",
       "    <tr style=\"text-align: right;\">\n",
       "      <th></th>\n",
       "      <th>year</th>\n",
       "      <th>Happiness</th>\n",
       "      <th>LogGDP</th>\n",
       "      <th>Support</th>\n",
       "      <th>Life_Expectancy</th>\n",
       "      <th>Freedom</th>\n",
       "      <th>Generosity</th>\n",
       "      <th>Corruption</th>\n",
       "      <th>Positive</th>\n",
       "      <th>Negative</th>\n",
       "      <th>Govmt_Confidence</th>\n",
       "      <th>Democratic</th>\n",
       "      <th>Delivery</th>\n",
       "      <th>Ladder_Std</th>\n",
       "      <th>Ladder_Std_GINI</th>\n",
       "      <th>GINI</th>\n",
       "      <th>GINI_avg</th>\n",
       "      <th>GINI_gallup</th>\n",
       "    </tr>\n",
       "  </thead>\n",
       "  <tbody>\n",
       "    <tr>\n",
       "      <th>count</th>\n",
       "      <td>426.000000</td>\n",
       "      <td>426.000000</td>\n",
       "      <td>412.000000</td>\n",
       "      <td>424.000000</td>\n",
       "      <td>424.000000</td>\n",
       "      <td>420.000000</td>\n",
       "      <td>409.000000</td>\n",
       "      <td>393.000000</td>\n",
       "      <td>424.000000</td>\n",
       "      <td>424.000000</td>\n",
       "      <td>389.000000</td>\n",
       "      <td>279.000000</td>\n",
       "      <td>279.000000</td>\n",
       "      <td>426.000000</td>\n",
       "      <td>426.000000</td>\n",
       "      <td>30.000000</td>\n",
       "      <td>376.000000</td>\n",
       "      <td>424.000000</td>\n",
       "    </tr>\n",
       "    <tr>\n",
       "      <th>mean</th>\n",
       "      <td>2015.995305</td>\n",
       "      <td>5.429473</td>\n",
       "      <td>9.296196</td>\n",
       "      <td>0.805380</td>\n",
       "      <td>63.174605</td>\n",
       "      <td>0.763507</td>\n",
       "      <td>0.000053</td>\n",
       "      <td>0.739327</td>\n",
       "      <td>0.707159</td>\n",
       "      <td>0.285288</td>\n",
       "      <td>0.483854</td>\n",
       "      <td>-0.131584</td>\n",
       "      <td>0.003767</td>\n",
       "      <td>2.154299</td>\n",
       "      <td>0.422787</td>\n",
       "      <td>0.407967</td>\n",
       "      <td>0.384383</td>\n",
       "      <td>0.454486</td>\n",
       "    </tr>\n",
       "    <tr>\n",
       "      <th>std</th>\n",
       "      <td>0.817443</td>\n",
       "      <td>1.123839</td>\n",
       "      <td>1.195084</td>\n",
       "      <td>0.123863</td>\n",
       "      <td>7.673240</td>\n",
       "      <td>0.131172</td>\n",
       "      <td>0.160586</td>\n",
       "      <td>0.187573</td>\n",
       "      <td>0.104301</td>\n",
       "      <td>0.089361</td>\n",
       "      <td>0.199444</td>\n",
       "      <td>0.901095</td>\n",
       "      <td>1.018081</td>\n",
       "      <td>0.427641</td>\n",
       "      <td>0.149844</td>\n",
       "      <td>0.086769</td>\n",
       "      <td>0.083198</td>\n",
       "      <td>0.108735</td>\n",
       "    </tr>\n",
       "    <tr>\n",
       "      <th>min</th>\n",
       "      <td>2015.000000</td>\n",
       "      <td>2.661718</td>\n",
       "      <td>6.473706</td>\n",
       "      <td>0.290184</td>\n",
       "      <td>43.589157</td>\n",
       "      <td>0.303540</td>\n",
       "      <td>-0.296735</td>\n",
       "      <td>0.047311</td>\n",
       "      <td>0.369440</td>\n",
       "      <td>0.103494</td>\n",
       "      <td>0.084061</td>\n",
       "      <td>-2.448228</td>\n",
       "      <td>-2.126180</td>\n",
       "      <td>1.154061</td>\n",
       "      <td>0.169937</td>\n",
       "      <td>0.255000</td>\n",
       "      <td>0.228833</td>\n",
       "      <td>0.223470</td>\n",
       "    </tr>\n",
       "    <tr>\n",
       "      <th>25%</th>\n",
       "      <td>2015.000000</td>\n",
       "      <td>4.588015</td>\n",
       "      <td>8.441896</td>\n",
       "      <td>0.739875</td>\n",
       "      <td>57.639421</td>\n",
       "      <td>0.679010</td>\n",
       "      <td>-0.115944</td>\n",
       "      <td>0.687854</td>\n",
       "      <td>0.624605</td>\n",
       "      <td>0.217804</td>\n",
       "      <td>0.315261</td>\n",
       "      <td>-0.736015</td>\n",
       "      <td>-0.716805</td>\n",
       "      <td>1.816168</td>\n",
       "      <td>0.318116</td>\n",
       "      <td>0.344000</td>\n",
       "      <td>0.320300</td>\n",
       "      <td>0.374108</td>\n",
       "    </tr>\n",
       "    <tr>\n",
       "      <th>50%</th>\n",
       "      <td>2016.000000</td>\n",
       "      <td>5.423854</td>\n",
       "      <td>9.500179</td>\n",
       "      <td>0.830156</td>\n",
       "      <td>64.923119</td>\n",
       "      <td>0.782926</td>\n",
       "      <td>-0.027512</td>\n",
       "      <td>0.800047</td>\n",
       "      <td>0.713184</td>\n",
       "      <td>0.276852</td>\n",
       "      <td>0.463772</td>\n",
       "      <td>-0.177854</td>\n",
       "      <td>-0.181768</td>\n",
       "      <td>2.137100</td>\n",
       "      <td>0.398161</td>\n",
       "      <td>0.417000</td>\n",
       "      <td>0.369625</td>\n",
       "      <td>0.428309</td>\n",
       "    </tr>\n",
       "    <tr>\n",
       "      <th>75%</th>\n",
       "      <td>2017.000000</td>\n",
       "      <td>6.220931</td>\n",
       "      <td>10.257286</td>\n",
       "      <td>0.905651</td>\n",
       "      <td>68.865871</td>\n",
       "      <td>0.863263</td>\n",
       "      <td>0.097172</td>\n",
       "      <td>0.862888</td>\n",
       "      <td>0.795447</td>\n",
       "      <td>0.337477</td>\n",
       "      <td>0.620333</td>\n",
       "      <td>0.650620</td>\n",
       "      <td>0.820801</td>\n",
       "      <td>2.453355</td>\n",
       "      <td>0.499389</td>\n",
       "      <td>0.477750</td>\n",
       "      <td>0.432000</td>\n",
       "      <td>0.532014</td>\n",
       "    </tr>\n",
       "    <tr>\n",
       "      <th>max</th>\n",
       "      <td>2017.000000</td>\n",
       "      <td>7.788252</td>\n",
       "      <td>11.693157</td>\n",
       "      <td>0.987343</td>\n",
       "      <td>76.536362</td>\n",
       "      <td>0.985178</td>\n",
       "      <td>0.666991</td>\n",
       "      <td>0.969483</td>\n",
       "      <td>0.924561</td>\n",
       "      <td>0.642589</td>\n",
       "      <td>0.993604</td>\n",
       "      <td>1.540097</td>\n",
       "      <td>2.100870</td>\n",
       "      <td>3.527820</td>\n",
       "      <td>1.022769</td>\n",
       "      <td>0.571000</td>\n",
       "      <td>0.626000</td>\n",
       "      <td>0.852040</td>\n",
       "    </tr>\n",
       "  </tbody>\n",
       "</table>\n",
       "</div>"
      ],
      "text/plain": [
       "              year   Happiness      LogGDP     Support  Life_Expectancy  \\\n",
       "count   426.000000  426.000000  412.000000  424.000000       424.000000   \n",
       "mean   2015.995305    5.429473    9.296196    0.805380        63.174605   \n",
       "std       0.817443    1.123839    1.195084    0.123863         7.673240   \n",
       "min    2015.000000    2.661718    6.473706    0.290184        43.589157   \n",
       "25%    2015.000000    4.588015    8.441896    0.739875        57.639421   \n",
       "50%    2016.000000    5.423854    9.500179    0.830156        64.923119   \n",
       "75%    2017.000000    6.220931   10.257286    0.905651        68.865871   \n",
       "max    2017.000000    7.788252   11.693157    0.987343        76.536362   \n",
       "\n",
       "          Freedom  Generosity  Corruption    Positive    Negative  \\\n",
       "count  420.000000  409.000000  393.000000  424.000000  424.000000   \n",
       "mean     0.763507    0.000053    0.739327    0.707159    0.285288   \n",
       "std      0.131172    0.160586    0.187573    0.104301    0.089361   \n",
       "min      0.303540   -0.296735    0.047311    0.369440    0.103494   \n",
       "25%      0.679010   -0.115944    0.687854    0.624605    0.217804   \n",
       "50%      0.782926   -0.027512    0.800047    0.713184    0.276852   \n",
       "75%      0.863263    0.097172    0.862888    0.795447    0.337477   \n",
       "max      0.985178    0.666991    0.969483    0.924561    0.642589   \n",
       "\n",
       "       Govmt_Confidence  Democratic    Delivery  Ladder_Std  Ladder_Std_GINI  \\\n",
       "count        389.000000  279.000000  279.000000  426.000000       426.000000   \n",
       "mean           0.483854   -0.131584    0.003767    2.154299         0.422787   \n",
       "std            0.199444    0.901095    1.018081    0.427641         0.149844   \n",
       "min            0.084061   -2.448228   -2.126180    1.154061         0.169937   \n",
       "25%            0.315261   -0.736015   -0.716805    1.816168         0.318116   \n",
       "50%            0.463772   -0.177854   -0.181768    2.137100         0.398161   \n",
       "75%            0.620333    0.650620    0.820801    2.453355         0.499389   \n",
       "max            0.993604    1.540097    2.100870    3.527820         1.022769   \n",
       "\n",
       "            GINI    GINI_avg  GINI_gallup  \n",
       "count  30.000000  376.000000   424.000000  \n",
       "mean    0.407967    0.384383     0.454486  \n",
       "std     0.086769    0.083198     0.108735  \n",
       "min     0.255000    0.228833     0.223470  \n",
       "25%     0.344000    0.320300     0.374108  \n",
       "50%     0.417000    0.369625     0.428309  \n",
       "75%     0.477750    0.432000     0.532014  \n",
       "max     0.571000    0.626000     0.852040  "
      ]
     },
     "execution_count": 151,
     "metadata": {},
     "output_type": "execute_result"
    }
   ],
   "source": [
    "# Examining the data\n",
    "df_summ = df1517.describe()\n",
    "df_summ"
   ]
  },
  {
   "cell_type": "code",
   "execution_count": 152,
   "metadata": {},
   "outputs": [
    {
     "data": {
      "text/plain": [
       "country               0\n",
       "year                  0\n",
       "Happiness             0\n",
       "LogGDP               14\n",
       "Support               2\n",
       "Life_Expectancy       2\n",
       "Freedom               6\n",
       "Generosity           17\n",
       "Corruption           33\n",
       "Positive              2\n",
       "Negative              2\n",
       "Govmt_Confidence     37\n",
       "Democratic          147\n",
       "Delivery            147\n",
       "Ladder_Std            0\n",
       "Ladder_Std_GINI       0\n",
       "GINI                396\n",
       "GINI_avg             50\n",
       "GINI_gallup           2\n",
       "dtype: int64"
      ]
     },
     "execution_count": 152,
     "metadata": {},
     "output_type": "execute_result"
    }
   ],
   "source": [
    "# Checking missing values\n",
    "nan_count = np.sum(df1517.isnull(), axis = 0)\n",
    "nan_count"
   ]
  },
  {
   "cell_type": "code",
   "execution_count": 153,
   "metadata": {},
   "outputs": [],
   "source": [
    "# Keeping note of high missing values for GINI Index (world bank estimate) "
   ]
  },
  {
   "cell_type": "code",
   "execution_count": 154,
   "metadata": {},
   "outputs": [
    {
     "data": {
      "text/plain": [
       "year                0.029565\n",
       "LogGDP              0.795964\n",
       "Support             0.742077\n",
       "Life_Expectancy     0.758202\n",
       "Freedom             0.539694\n",
       "Generosity          0.150937\n",
       "Corruption         -0.444353\n",
       "Positive            0.542396\n",
       "Negative           -0.462716\n",
       "Govmt_Confidence   -0.118905\n",
       "Democratic          0.623771\n",
       "Delivery            0.730502\n",
       "Ladder_Std         -0.423140\n",
       "Ladder_Std_GINI    -0.840532\n",
       "GINI                0.249486\n",
       "GINI_avg           -0.248880\n",
       "GINI_gallup        -0.406981\n",
       "Name: Happiness, dtype: float64"
      ]
     },
     "execution_count": 154,
     "metadata": {},
     "output_type": "execute_result"
    }
   ],
   "source": [
    "# Calculating correlation between features and label\n",
    "corrs = df1517.corr()['Happiness'].drop('Happiness', axis = 0)\n",
    "corrs"
   ]
  },
  {
   "cell_type": "code",
   "execution_count": 155,
   "metadata": {},
   "outputs": [
    {
     "data": {
      "text/plain": [
       "['LogGDP', 'Life_Expectancy']"
      ]
     },
     "execution_count": 155,
     "metadata": {},
     "output_type": "execute_result"
    }
   ],
   "source": [
    "corrs_sorted = corrs.sort_values(ascending = False) \n",
    "top_two_corr = list(corrs_sorted.index[:2])\n",
    "top_two_corr"
   ]
  },
  {
   "cell_type": "code",
   "execution_count": 156,
   "metadata": {},
   "outputs": [
    {
     "data": {
      "text/plain": [
       "<seaborn.axisgrid.PairGrid at 0x793a39101128>"
      ]
     },
     "execution_count": 156,
     "metadata": {},
     "output_type": "execute_result"
    },
    {
     "data": {
      "image/png": "[encoded data removed]",
      "text/plain": [
       "<Figure size 540x540 with 9 Axes>"
      ]
     },
     "metadata": {
      "needs_background": "light"
     },
     "output_type": "display_data"
    }
   ],
   "source": [
    "df_corrs = pd.DataFrame({'Log GDP per capita': df1517['LogGDP'], 'Life Expectancy': df1517['Life_Expectancy'], 'Happiness': df1517['Happiness']})\n",
    "sns.pairplot(data = df_corrs, kind = 'kde', corner = True)"
   ]
  },
  {
   "cell_type": "markdown",
   "metadata": {},
   "source": [
    "## Part 4: Define Your Project Plan\n",
    "\n",
    "Now that you understand your data, in the markdown cell below, define your plan to implement the remaining phases of the machine learning life cycle (data preparation, modeling, evaluation) to solve your ML problem. Answer the following questions:\n",
    "\n",
    "* Do you have a new feature list? If so, what are the features that you chose to keep and remove after inspecting the data? \n",
    "* Explain different data preparation techniques that you will use to prepare your data for modeling.\n",
    "* What is your model (or models)?\n",
    "* Describe your plan to train your model, analyze its performance and then improve the model. That is, describe your model building, validation and selection plan to produce a model that generalizes well to new data. "
   ]
  },
  {
   "cell_type": "markdown",
   "metadata": {},
   "source": [
    "#### Modeling Plan "
   ]
  },
  {
   "cell_type": "markdown",
   "metadata": {},
   "source": [
    "After exploring the dataset and observing feature correlation and distributions, I've changed my feature list to remove columns with weak correlation. I dropped the features 'year', which was more categorical, 'GINI index (World Bank estimate)' for having too many missing values, and 'Confidence in national government'. After that, I used my understanding of the features, and context from the WHR report website to select features. The final feature set includes feaures that show stronger relationships with 'Life Ladder', like 'Log GDP per capita', 'Healthy Life expectancy at birth', and 'Social Support'."
   ]
  },
  {
   "cell_type": "markdown",
   "metadata": {},
   "source": [
    "To prepare the dataset for modeling, I plan to apply a few different preprocessing techniques. To address missing values, I plan to fill them with the means for each column. Since I know they are all float columns, there is no need for additional steps to deal with categorical variables. I also plan to use StandardScaler to scale the featues. "
   ]
  },
  {
   "cell_type": "markdown",
   "metadata": {},
   "source": [
    "I decided to choose a linear regression as the starting model type, since it is simple and easy to interpret. I'll be using a train test split of 70/30 to train and evaluate the linear regression model. The performance of the model will be captured by several variables, which include mean absolute error (MAE), mean squared error (MSE), and R-squared score. I also plan to apply k-fold cross validation to test if the model is good at generalizing and is not overfitting."
   ]
  },
  {
   "cell_type": "markdown",
   "metadata": {},
   "source": [
    "To improve model performance, I will test out some feature selection methods and tune the models with different hyperparameters. To find the best parameters I'll use GridSearch. "
   ]
  },
  {
   "cell_type": "markdown",
   "metadata": {},
   "source": [
    "## Part 5: Implement Your Project Plan\n",
    "\n",
    "<b>Task:</b> In the code cell below, import additional packages that you have used in this course that you will need to implement your project plan."
   ]
  },
  {
   "cell_type": "code",
   "execution_count": 157,
   "metadata": {},
   "outputs": [],
   "source": [
    "# YOUR CODE HERE\n",
    "from sklearn.model_selection import train_test_split, cross_val_score\n",
    "from sklearn.preprocessing import StandardScaler\n",
    "from sklearn.linear_model import LinearRegression\n",
    "from sklearn.metrics import mean_absolute_error, mean_squared_error, r2_score\n",
    "from sklearn.ensemble import RandomForestRegressor"
   ]
  },
  {
   "cell_type": "markdown",
   "metadata": {},
   "source": [
    "<b>Task:</b> Use the rest of this notebook to carry out your project plan. \n",
    "\n",
    "You will:\n",
    "\n",
    "1. Prepare your data for your model.\n",
    "2. Fit your model to the training data and evaluate your model.\n",
    "3. Improve your model's performance by performing model selection and/or feature selection techniques to find best model for your problem.\n",
    "\n",
    "Add code cells below and populate the notebook with commentary, code, analyses, results, and figures as you see fit. "
   ]
  },
  {
   "cell_type": "code",
   "execution_count": 158,
   "metadata": {},
   "outputs": [
    {
     "data": {
      "text/plain": [
       "country             0\n",
       "year                0\n",
       "Happiness           0\n",
       "LogGDP              0\n",
       "Support             0\n",
       "Life_Expectancy     0\n",
       "Freedom             0\n",
       "Generosity          0\n",
       "Corruption          0\n",
       "Positive            0\n",
       "Negative            0\n",
       "Govmt_Confidence    0\n",
       "Democratic          0\n",
       "Delivery            0\n",
       "Ladder_Std          0\n",
       "Ladder_Std_GINI     0\n",
       "GINI                0\n",
       "GINI_avg            0\n",
       "GINI_gallup         0\n",
       "dtype: int64"
      ]
     },
     "execution_count": 158,
     "metadata": {},
     "output_type": "execute_result"
    }
   ],
   "source": [
    "# YOUR CODE HERE\n",
    "# Data preparation: Feature Selection & filling missing values\n",
    "df1517 = df1517.fillna(df1517.mean())\n",
    "np.sum(df1517.isnull(), axis = 0)"
   ]
  },
  {
   "cell_type": "code",
   "execution_count": 159,
   "metadata": {},
   "outputs": [],
   "source": [
    "features = ['LogGDP', 'Support', 'Life_Expectancy', 'Freedom',\n",
    "           'Generosity', 'Corruption', 'GINI_avg']\n",
    "\n",
    "X = df1517[features]\n",
    "y = df1517['Happiness'] "
   ]
  },
  {
   "cell_type": "code",
   "execution_count": 160,
   "metadata": {},
   "outputs": [],
   "source": [
    "scaler = StandardScaler()\n",
    "X_scaled = scaler.fit_transform(X)"
   ]
  },
  {
   "cell_type": "code",
   "execution_count": 161,
   "metadata": {},
   "outputs": [
    {
     "data": {
      "text/plain": [
       "LinearRegression(copy_X=True, fit_intercept=True, n_jobs=None, normalize=False)"
      ]
     },
     "execution_count": 161,
     "metadata": {},
     "output_type": "execute_result"
    }
   ],
   "source": [
    "X_train, X_test, y_train, y_test = train_test_split(\n",
    "    X_scaled, y, test_size=0.3, random_state=1234\n",
    ")\n",
    "\n",
    "model = LinearRegression()\n",
    "model.fit(X_train, y_train) "
   ]
  },
  {
   "cell_type": "code",
   "execution_count": 162,
   "metadata": {},
   "outputs": [
    {
     "name": "stdout",
     "output_type": "stream",
     "text": [
      "Test Set Performance:\n",
      "MAE: 0.4428\n",
      "MSE: 0.3011\n",
      "R²: 0.7683\n"
     ]
    }
   ],
   "source": [
    "y_pred = model.predict(X_test)\n",
    "\n",
    "print(\"Test Set Performance:\")\n",
    "print(\"MAE:\", mean_absolute_error(y_test, y_pred).round(4))\n",
    "print(\"MSE:\", mean_squared_error(y_test, y_pred).round(4))\n",
    "print(\"R²:\", r2_score(y_test, y_pred).round(4))"
   ]
  },
  {
   "cell_type": "code",
   "execution_count": 163,
   "metadata": {},
   "outputs": [
    {
     "ename": "SyntaxError",
     "evalue": "invalid syntax (<ipython-input-163-28561e17aa75>, line 1)",
     "output_type": "error",
     "traceback": [
      "\u001b[0;36m  File \u001b[0;32m\"<ipython-input-163-28561e17aa75>\"\u001b[0;36m, line \u001b[0;32m1\u001b[0m\n\u001b[0;31m    Test Set Performance:\u001b[0m\n\u001b[0m           ^\u001b[0m\n\u001b[0;31mSyntaxError\u001b[0m\u001b[0;31m:\u001b[0m invalid syntax\n"
     ]
    }
   ],
   "source": [
    "Test Set Performance:\n",
    "MAE: 0.2184396162967608\n",
    "MSE: 0.08590404206551146\n",
    "R²: 0.9333342403586612"
   ]
  },
  {
   "cell_type": "code",
   "execution_count": null,
   "metadata": {
    "scrolled": true
   },
   "outputs": [],
   "source": [
    "cv_scores = cross_val_score(model, X_scaled, y, cv=5, scoring='r2')\n",
    "print(\"Cross-validated R² scores:\", cv_scores.round(2))\n",
    "print(\"Average R²:\", np.mean(cv_scores).round(2))\n",
    "print(\"Standard deviation:\", np.std(cv_scores).round(2))"
   ]
  },
  {
   "cell_type": "markdown",
   "metadata": {},
   "source": [
    "I ran 5-fold cross-validation to understand how the linear regression model performs across different subsets. The R^2 scores were: [0.71, 0.77, 0.80, 0.53, 0.75] with an average of 0.71 and a standard deviation of 0.10. This is lower than my earlier single test split R^2 of 0.77, so there’s definitely room to improve.\n",
    "\n",
    "Next, I’m planning to:\n",
    "- Try more features like Positive and Govmt_Confidence\n",
    "- Test out other models like Random forest\n",
    "\n",
    "My goal is to boost R^2 and make the model more consistent."
   ]
  },
  {
   "cell_type": "markdown",
   "metadata": {},
   "source": [
    "#### Heuristic Feature Selection"
   ]
  },
  {
   "cell_type": "code",
   "execution_count": null,
   "metadata": {},
   "outputs": [],
   "source": [
    "features_extended = [\n",
    "    'LogGDP', 'Support', 'Life_Expectancy', 'Freedom', 'Generosity',\n",
    "    'Corruption', 'GINI_avg', 'Positive', 'Negative', 'Govmt_Confidence',\n",
    "    'Democratic', 'Delivery'\n",
    "]\n",
    "\n",
    "X = df1517[features_extended]\n",
    "y = df1517['Happiness']\n",
    "\n",
    "scaler = StandardScaler()\n",
    "X_scaled = scaler.fit_transform(X)\n",
    "\n",
    "X_train, X_test, y_train, y_test = train_test_split(\n",
    "    X_scaled, y, test_size=0.3, random_state=1234\n",
    ")\n",
    "\n",
    "model = LinearRegression()\n",
    "model.fit(X_train, y_train)\n",
    "\n",
    "y_pred = model.predict(X_test)\n",
    "\n",
    "print(\"Heuristic Selection Performance:\")\n",
    "print(\"MAE:\", mean_absolute_error(y_test, y_pred).round(4))\n",
    "print(\"MSE:\", mean_squared_error(y_test, y_pred).round(4))\n",
    "print(\"R²:\", r2_score(y_test, y_pred).round(4))\n",
    "\n",
    "cv_scores = cross_val_score(model, X_scaled, y, cv=5, scoring='r2')\n",
    "print(\"\")\n",
    "print(\"Cross-validated R² scores:\", cv_scores.round(2))\n",
    "print(\"Average R²:\", np.mean(cv_scores).round(2))\n",
    "print(\"Standard deviation:\", np.std(cv_scores).round(2))"
   ]
  },
  {
   "cell_type": "markdown",
   "metadata": {},
   "source": [
    "#### Random Forest Model:"
   ]
  },
  {
   "cell_type": "code",
   "execution_count": 123,
   "metadata": {},
   "outputs": [
    {
     "name": "stdout",
     "output_type": "stream",
     "text": [
      "Random Forest Model Performance:\n",
      "MAE: 0.31852261223192846\n",
      "MSE: 0.1853368485085684\n",
      "R²: 0.8573996190069894\n",
      "\n",
      "Cross-validated R² scores: [0.71 0.77 0.8  0.53 0.75]\n",
      "Average R²: 0.71\n",
      "Standard deviation: 0.1\n"
     ]
    }
   ],
   "source": [
    "\n",
    "X = df1517[features]\n",
    "y = df1517['Happiness']\n",
    "\n",
    "scaler = StandardScaler()\n",
    "X_scaled = scaler.fit_transform(X)\n",
    "\n",
    "X_train, X_test, y_train, y_test = train_test_split(\n",
    "    X_scaled, y, test_size=0.3, random_state=1234\n",
    ")\n",
    "\n",
    "rf_model = RandomForestRegressor(n_estimators=100, random_state=1234)\n",
    "rf_model.fit(X_train, y_train)\n",
    "\n",
    "y_pred = rf_model.predict(X_test)\n",
    "\n",
    "print(\"Random Forest Model Performance:\")\n",
    "print(\"MAE:\", mean_absolute_error(y_test, y_pred).round(4))\n",
    "print(\"MSE:\", mean_squared_error(y_test, y_pred).round(4))\n",
    "print(\"R²:\", r2_score(y_test, y_pred).round(4))\n",
    "\n",
    "cv_scores = cross_val_score(model, X_scaled, y, cv=5, scoring='r2')\n",
    "print(\"\")\n",
    "print(\"Cross-validated R² scores:\", cv_scores.round(2))\n",
    "print(\"Average R²:\", np.mean(cv_scores).round(2))\n",
    "print(\"Standard deviation:\", np.std(cv_scores).round(2))"
   ]
  },
  {
   "cell_type": "markdown",
   "metadata": {},
   "source": [
    "Overall, I was able to increase my R2 values, however there is still more room for it to improve. "
   ]
  }
 ],
 "metadata": {
  "kernelspec": {
   "display_name": "Python 3",
   "language": "python",
   "name": "python3"
  },
  "language_info": {
   "codemirror_mode": {
    "name": "ipython",
    "version": 3
   },
   "file_extension": ".py",
   "mimetype": "text/x-python",
   "name": "python",
   "nbconvert_exporter": "python",
   "pygments_lexer": "ipython3",
   "version": "3.6.9"
  },
  "toc": {
   "base_numbering": 1,
   "nav_menu": {},
   "number_sections": false,
   "sideBar": true,
   "skip_h1_title": false,
   "title_cell": "Table of Contents",
   "title_sidebar": "Contents",
   "toc_cell": false,
   "toc_position": {},
   "toc_section_display": true,
   "toc_window_display": false
  },
  "varInspector": {
   "cols": {
    "lenName": 16,
    "lenType": 16,
    "lenVar": 40
   },
   "kernels_config": {
    "python": {
     "delete_cmd_postfix": "",
     "delete_cmd_prefix": "del ",
     "library": "var_list.py",
     "varRefreshCmd": "print(var_dic_list())"
    },
    "r": {
     "delete_cmd_postfix": ") ",
     "delete_cmd_prefix": "rm(",
     "library": "var_list.r",
     "varRefreshCmd": "cat(var_dic_list()) "
    }
   },
   "types_to_exclude": [
    "module",
    "function",
    "builtin_function_or_method",
    "instance",
    "_Feature"
   ],
   "window_display": false
  }
 },
 "nbformat": 4,
 "nbformat_minor": 4
}
